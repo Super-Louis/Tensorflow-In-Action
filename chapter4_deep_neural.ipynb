{
 "cells": [
  {
   "cell_type": "code",
   "execution_count": 1,
   "metadata": {},
   "outputs": [],
   "source": [
    "import tensorflow as tf\n",
    "import numpy as np"
   ]
  },
  {
   "cell_type": "code",
   "execution_count": 2,
   "metadata": {},
   "outputs": [
    {
     "data": {
      "text/plain": [
       "array([[2.5, 2.5, 3. ],\n",
       "       [4. , 4.5, 4.5]], dtype=float32)"
      ]
     },
     "execution_count": 2,
     "metadata": {},
     "output_type": "execute_result"
    }
   ],
   "source": [
    "sess = tf.InteractiveSession()\n",
    "v = tf.constant([[1.0, 2.0, 3.0], [4.0, 5.0, 6.0]])\n",
    "tf.clip_by_value(v, 2.5, 4.5).eval() # 截断"
   ]
  },
  {
   "cell_type": "code",
   "execution_count": 3,
   "metadata": {},
   "outputs": [
    {
     "name": "stdout",
     "output_type": "stream",
     "text": [
      "[[ 4. 12.]\n",
      " [21. 32.]]\n",
      "[[18. 22.]\n",
      " [40. 50.]]\n"
     ]
    }
   ],
   "source": [
    "v1 = tf.constant([[1.0, 2.0], [3.0, 4.0]])\n",
    "v2 = tf.constant([[4.0, 6.0], [7.0, 8.0]])\n",
    "print((v1*v2).eval()) # 矩阵逐元素相乘\n",
    "print(tf.matmul(v1, v2).eval()) # 矩阵乘法"
   ]
  },
  {
   "cell_type": "code",
   "execution_count": 4,
   "metadata": {},
   "outputs": [
    {
     "data": {
      "text/plain": [
       "3.5"
      ]
     },
     "execution_count": 4,
     "metadata": {},
     "output_type": "execute_result"
    }
   ],
   "source": [
    "v = tf.constant([[1.0, 2.0, 3.0],[4.0, 5.0, 6.0]])\n",
    "tf.reduce_mean(v).eval()"
   ]
  },
  {
   "cell_type": "code",
   "execution_count": 7,
   "metadata": {},
   "outputs": [
    {
     "name": "stdout",
     "output_type": "stream",
     "text": [
      "[False False  True  True]\n",
      "[4. 3. 3. 4.]\n"
     ]
    }
   ],
   "source": [
    "# 自定义损失函数\n",
    "v1 = tf.constant([1.0, 2.0, 3.0, 4.0])\n",
    "v2 = tf.constant([4.0, 3.0, 2.0, 1.0])\n",
    "print(tf.greater(v1, v2).eval()) # 逐元素比较\n",
    "print(tf.where(tf.greater(v1, v2), v1, v2).eval()) # 如果第一个参数为True，则输出第二个参数，否则输出第三个参数(逐元素进行)"
   ]
  },
  {
   "cell_type": "code",
   "execution_count": 1,
   "metadata": {},
   "outputs": [
    {
     "name": "stdout",
     "output_type": "stream",
     "text": [
      "5.0\n",
      "7.5\n"
     ]
    }
   ],
   "source": [
    "# l1/l2 regularizer\n",
    "import tensorflow as tf\n",
    "weights = tf.constant([[1.0, -2.0], [-3.0, 4.0]])\n",
    "with tf.Session() as sess:\n",
    "    print(sess.run(tf.contrib.layers.l1_regularizer(.5)(weights))) # l1正则化， 0.5为正则化比例\n",
    "    print(sess.run(tf.contrib.layers.l2_regularizer(.5)(weights)))"
   ]
  },
  {
   "cell_type": "code",
   "execution_count": 7,
   "metadata": {},
   "outputs": [],
   "source": [
    "# 通过集合正则化多组不同的w\n",
    "# 在初始化参数时就将其加入正则化参数集合\n",
    "def get_weight(shape, lam):\n",
    "    var = tf.Variable(tf.random_normal(shape), dtype=tf.float32)\n",
    "    tf.add_to_collection('losses', tf.contrib.layers.l2_regularizer(lam)(var))\n",
    "    return var\n",
    "x = tf.placeholder(tf.float32, shape=(None, 2))\n",
    "y_ = tf.placeholder(tf.float32, shape=(None, 1))\n",
    "batch_size = 8\n",
    "layer_dimension = [2, 10, 10, 10, 1]\n",
    "n_layers = len(layer_dimension)\n",
    "current_layer = x # 当前层\n",
    "in_dimension = layer_dimension[0] # 输入层节点数\n",
    "for i in range(1, n_layers):\n",
    "    out_dimension = layer_dimension[i] # 当前层输出维度\n",
    "    weight = get_weight([in_dimension, out_dimension], 0.001) # 权重\n",
    "    bias = tf.Variable(tf.constant(0.1, shape=[out_dimension]))\n",
    "    current_layer = tf.nn.relu(tf.matmul(current_layer, weight) + bias) # 当前层输出， 下层输入\n",
    "    in_dimension = layer_dimension[i] # 下层输入维度\n",
    "mse_loss = tf.reduce_mean(tf.square(y_-current_layer))\n",
    "tf.add_to_collection('losses', mse_loss) # 损失集合中已有正则化损失\n",
    "loss = tf.add_n(tf.get_collection('losses')) # get_collection获取集合所有元素，相加得到最终损失"
   ]
  },
  {
   "cell_type": "code",
   "execution_count": 8,
   "metadata": {},
   "outputs": [
    {
     "data": {
      "text/plain": [
       "<tf.Tensor 'AddN:0' shape=() dtype=float32>"
      ]
     },
     "execution_count": 8,
     "metadata": {},
     "output_type": "execute_result"
    }
   ],
   "source": [
    "loss"
   ]
  },
  {
   "cell_type": "code",
   "execution_count": 9,
   "metadata": {},
   "outputs": [
    {
     "name": "stdout",
     "output_type": "stream",
     "text": [
      "[0.0, 0.0]\n",
      "[5.0, 4.5]\n",
      "[10.0, 4.555]\n",
      "[10.0, 4.60945]\n"
     ]
    }
   ],
   "source": [
    "# 滑动平均模型\n",
    "# 用于控制参数的更新速度, 在旧参数与新参数间滑动，得到滑动平均值（影子变量）\n",
    "# shadow_variable = decay * shadow_variable + (1-decay)*variable\n",
    "import tensorflow as tf\n",
    "# 定义一个变量用于计算滑动平均， 变量的初值为0\n",
    "v1 = tf.Variable(0, dtype=tf.float32)\n",
    "step = tf.Variable(0, trainable=False) # step为训练轮次，用于控制decay的大小 decay = min(decay, (1+step)/(10+step))\n",
    "# 定义一个滑动平均类， 初始化时给定衰减率0.99及控制衰减率的变量step\n",
    "ema = tf.train.ExponentialMovingAverage(0.99, step)\n",
    "# 定义一个更新变量滑动平均的操作，每次执行该操作时，列表中的变量都会被更新\n",
    "maintain_averages_op = ema.apply([v1])\n",
    "with tf.Session() as sess:\n",
    "    init_op = tf.global_variables_initializer()\n",
    "    sess.run(init_op)\n",
    "    # 通过ema.average(v1)获取滑动平均之后影子变量的取值。\n",
    "    print(sess.run([v1, ema.average(v1)]))\n",
    "    \n",
    "    # 更新变量v1的值到5\n",
    "    sess.run(tf.assign(v1, 5))\n",
    "    # 更新滑动平均值\n",
    "    sess.run(maintain_averages_op)\n",
    "    print(sess.run([v1, ema.average(v1)]))\n",
    "    \n",
    "    # 更新step的值为10000\n",
    "    sess.run(tf.assign(step, 10000))\n",
    "    # 更新v1的值为10\n",
    "    sess.run(tf.assign(v1, 10))\n",
    "    sess.run(maintain_averages_op)\n",
    "    print(sess.run([v1, ema.average(v1)]))\n",
    "    \n",
    "    # 再次更新滑动平均值\n",
    "    sess.run(maintain_averages_op)\n",
    "    print(sess.run([v1, ema.average(v1)]))"
   ]
  }
 ],
 "metadata": {
  "kernelspec": {
   "display_name": "Python 3",
   "language": "python",
   "name": "python3"
  },
  "language_info": {
   "codemirror_mode": {
    "name": "ipython",
    "version": 3
   },
   "file_extension": ".py",
   "mimetype": "text/x-python",
   "name": "python",
   "nbconvert_exporter": "python",
   "pygments_lexer": "ipython3",
   "version": "3.6.3"
  },
  "toc": {
   "base_numbering": 1,
   "nav_menu": {},
   "number_sections": true,
   "sideBar": true,
   "skip_h1_title": false,
   "title_cell": "Table of Contents",
   "title_sidebar": "Contents",
   "toc_cell": false,
   "toc_position": {},
   "toc_section_display": true,
   "toc_window_display": false
  }
 },
 "nbformat": 4,
 "nbformat_minor": 2
}
